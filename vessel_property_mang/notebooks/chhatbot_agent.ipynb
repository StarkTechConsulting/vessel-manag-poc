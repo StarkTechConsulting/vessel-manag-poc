{
 "cells": [
  {
   "cell_type": "markdown",
   "metadata": {},
   "source": [
    "Goal :\n",
    "\n",
    "Create an Agent with the following tools\n",
    "\n",
    "- Question answering Retrieval from Pinecone VDB\n",
    "- Retrieving instructions for a given task from the pre-existing VDB\n",
    "- Searching in a Google Drive folder for files\n",
    "\n",
    "Agent's function is to fullfill the user's request: question OR generation task\n"
   ]
  },
  {
   "cell_type": "code",
   "execution_count": 1,
   "metadata": {},
   "outputs": [
    {
     "name": "stderr",
     "output_type": "stream",
     "text": [
      "/home/asmaa/work/BV_Lab/poc-env/lib/python3.10/site-packages/langchain_pinecone/__init__.py:1: LangChainDeprecationWarning: As of langchain-core 0.3.0, LangChain uses pydantic v2 internally. The langchain_core.pydantic_v1 module was a compatibility shim for pydantic v1, and should no longer be used. Please update the code to import from Pydantic directly.\n",
      "\n",
      "For example, replace imports like: `from langchain_core.pydantic_v1 import BaseModel`\n",
      "with: `from pydantic import BaseModel`\n",
      "or the v1 compatibility namespace if you are working in a code base that has not been fully upgraded to pydantic 2 yet. \tfrom pydantic.v1 import BaseModel\n",
      "\n",
      "  from langchain_pinecone.embeddings import PineconeEmbeddings\n",
      "/home/asmaa/work/BV_Lab/poc-env/lib/python3.10/site-packages/pinecone/data/index.py:1: TqdmWarning: IProgress not found. Please update jupyter and ipywidgets. See https://ipywidgets.readthedocs.io/en/stable/user_install.html\n",
      "  from tqdm.autonotebook import tqdm\n"
     ]
    }
   ],
   "source": [
    "import os \n",
    "from dotenv import load_dotenv \n",
    "load_dotenv()\n",
    "from langchain_community.document_loaders.mongodb import MongodbLoader\n",
    "from langchain_pinecone import PineconeVectorStore\n",
    "from langchain_experimental.text_splitter import SemanticChunker\n",
    "from langchain_community.document_loaders import S3FileLoader\n",
    "from langchain_core.documents import Document\n",
    "import logging\n",
    "from pinecone import Pinecone\n",
    "from langchain_pinecone import PineconeVectorStore\n",
    "from langchain_openai import OpenAIEmbeddings\n",
    "import streamlit as st\n",
    "from langchain_community.document_loaders import PyPDFLoader\n",
    "from langchain_community.document_loaders import Docx2txtLoader\n",
    "from langchain_community.document_loaders import TextLoader\n",
    "\n",
    "def get_pinecone_vector_store(embeddings_model,namespace=\"default\",index_name: str = os.getenv(\"PINECONE_INDEX_NAME\")) -> PineconeVectorStore:\n",
    "    try:\n",
    "        # Initialize Pinecone client\n",
    "        pinecone_api_key = os.getenv(\"PINECONE_API_KEY\")\n",
    "        if not pinecone_api_key:\n",
    "            raise ValueError(\"Pinecone API key is not set. Please set it in the environment variables.\")\n",
    "        \n",
    "        pc = Pinecone(api_key=pinecone_api_key)\n",
    "\n",
    "        # Check if the index exists\n",
    "        existing_indexes = [index_info[\"name\"] for index_info in pc.list_indexes()]\n",
    "        if index_name in existing_indexes:\n",
    "            print(f\"Index '{index_name}' already exists. Retrieving it...\")\n",
    "            index = pc.Index(index_name)\n",
    "        else:\n",
    "            print(f\"Index '{index_name}' does not exist. Please create one\")\n",
    "\n",
    "\n",
    "        # Initialize and return the vector store\n",
    "        vector_store = PineconeVectorStore(index=index, embedding=embeddings_model,namespace=namespace)\n",
    "        return vector_store\n",
    "\n",
    "    except Exception as e:\n",
    "        print(f\"An error occurred: {e}\")\n",
    "        return None\n",
    "    "
   ]
  },
  {
   "cell_type": "code",
   "execution_count": 2,
   "metadata": {},
   "outputs": [],
   "source": [
    "import os \n",
    "from langchain_community.agent_toolkits import GmailToolkit\n",
    "from langchain import hub\n",
    "from langchain.agents import AgentExecutor, create_openai_functions_agent\n",
    "from langchain_openai import ChatOpenAI\n",
    "from dotenv import load_dotenv\n",
    "\n",
    "# Load environment variables\n",
    "load_dotenv()\n",
    "\n",
    "openai_api_key = os.getenv(\"OPENAI_API_KEY\")\n",
    "\n",
    "# Instantiate GmailToolkit\n",
    "toolkit = GmailToolkit()\n",
    "\n",
    "# Get tools\n",
    "google_tools = toolkit.get_tools()\n",
    "\n"
   ]
  },
  {
   "cell_type": "code",
   "execution_count": 3,
   "metadata": {},
   "outputs": [
    {
     "data": {
      "text/plain": [
       "[GmailCreateDraft(api_resource=<googleapiclient.discovery.Resource object at 0x7f5f483fce50>),\n",
       " GmailSendMessage(api_resource=<googleapiclient.discovery.Resource object at 0x7f5f483fce50>),\n",
       " GmailSearch(api_resource=<googleapiclient.discovery.Resource object at 0x7f5f483fce50>),\n",
       " GmailGetMessage(api_resource=<googleapiclient.discovery.Resource object at 0x7f5f483fce50>),\n",
       " GmailGetThread(api_resource=<googleapiclient.discovery.Resource object at 0x7f5f483fce50>)]"
      ]
     },
     "execution_count": 3,
     "metadata": {},
     "output_type": "execute_result"
    }
   ],
   "source": [
    "google_tools"
   ]
  },
  {
   "cell_type": "code",
   "execution_count": 3,
   "metadata": {},
   "outputs": [
    {
     "ename": "ModuleNotFoundError",
     "evalue": "No module named 'langchain_googldrive'",
     "output_type": "error",
     "traceback": [
      "\u001b[0;31m---------------------------------------------------------------------------\u001b[0m",
      "\u001b[0;31mModuleNotFoundError\u001b[0m                       Traceback (most recent call last)",
      "Cell \u001b[0;32mIn[3], line 1\u001b[0m\n\u001b[0;32m----> 1\u001b[0m \u001b[38;5;28;01mfrom\u001b[39;00m \u001b[38;5;21;01mlangchain_googldrive\u001b[39;00m\u001b[38;5;21;01m.\u001b[39;00m\u001b[38;5;21;01mtools\u001b[39;00m\u001b[38;5;21;01m.\u001b[39;00m\u001b[38;5;21;01mgoogle_drive\u001b[39;00m\u001b[38;5;21;01m.\u001b[39;00m\u001b[38;5;21;01mtool\u001b[39;00m \u001b[38;5;28;01mimport\u001b[39;00m GoogleDriveSearchTool\n\u001b[1;32m      2\u001b[0m \u001b[38;5;28;01mfrom\u001b[39;00m \u001b[38;5;21;01mlangchain_googldrive\u001b[39;00m\u001b[38;5;21;01m.\u001b[39;00m\u001b[38;5;21;01mutilities\u001b[39;00m\u001b[38;5;21;01m.\u001b[39;00m\u001b[38;5;21;01mgoogle_drive\u001b[39;00m \u001b[38;5;28;01mimport\u001b[39;00m GoogleDriveAPIWrapper\n\u001b[1;32m      4\u001b[0m folder_id \u001b[38;5;241m=\u001b[39m \u001b[38;5;124m\"\u001b[39m\u001b[38;5;124m\"\u001b[39m\n",
      "\u001b[0;31mModuleNotFoundError\u001b[0m: No module named 'langchain_googldrive'"
     ]
    }
   ],
   "source": [
    "from langchain_googldrive.tools.google_drive.tool import GoogleDriveSearchTool\n",
    "from langchain_googldrive.utilities.google_drive import GoogleDriveAPIWrapper\n",
    "\n",
    "folder_id = \"\"\n",
    "# By default, search only in the filename.\n",
    "tool = GoogleDriveSearchTool(\n",
    "    api_wrapper=GoogleDriveAPIWrapper(\n",
    "        folder_id=folder_id,\n",
    "        num_results=2,\n",
    "        template=\"gdrive-query-in-folder\",  # Search in the body of documents\n",
    "    )\n",
    ")"
   ]
  },
  {
   "cell_type": "code",
   "execution_count": 15,
   "metadata": {},
   "outputs": [
    {
     "name": "stdout",
     "output_type": "stream",
     "text": [
      "Index 'poc-vessel-manag' already exists. Retrieving it...\n",
      "Index 'instructions-index' already exists. Retrieving it...\n"
     ]
    },
    {
     "name": "stderr",
     "output_type": "stream",
     "text": [
      "/home/asmaa/work/BV_Lab/poc-env/lib/python3.10/site-packages/langsmith/client.py:312: LangSmithMissingAPIKeyWarning: API key must be provided when using hosted LangSmith API\n",
      "  warnings.warn(\n"
     ]
    }
   ],
   "source": [
    "# Retrieval tool\n",
    "from langchain_openai import OpenAIEmbeddings\n",
    "from langchain_openai import ChatOpenAI\n",
    "import os \n",
    "from langgraph.checkpoint.memory import MemorySaver\n",
    "from langchain.tools.retriever import create_retriever_tool\n",
    "from langgraph.prebuilt import create_react_agent\n",
    "from dotenv import load_dotenv \n",
    "load_dotenv()\n",
    "memory = MemorySaver()\n",
    "\n",
    "vector_store = get_pinecone_vector_store(OpenAIEmbeddings(api_key=os.getenv(\"OPENAI_API_KEY\"),model=\"text-embedding-3-large\"))\n",
    "docs_retriever = vector_store.as_retriever()\n",
    "\n",
    "inst_vector_store = get_pinecone_vector_store(OpenAIEmbeddings(api_key=os.getenv(\"OPENAI_API_KEY\"),model=\"text-embedding-3-large\"),index_name=\"instructions-index\")\n",
    "inst_retriever = vector_store.as_retriever()\n",
    "\n",
    "llm = ChatOpenAI(model=\"gpt-4o\", temperature=0, openai_api_key=openai_api_key)\n",
    "\n",
    "docs_retrieval_tool = create_retriever_tool(\n",
    "    docs_retriever,\n",
    "    \"answer_question\",\n",
    "    \"Invoked always when a user asks a question.\"\n",
    ")\n",
    "\n",
    "instructions_retrieval_tool = create_retriever_tool(\n",
    "    inst_retriever,\n",
    "    \"instructions_retriever\",\n",
    "    \"Used to retrieve relevant instructions on how to complete a task when the user asks you to perform a certain task like letter writting, email drafting etc.\"\n",
    ")\n",
    "tools = [docs_retrieval_tool,instructions_retrieval_tool] + google_tools\n",
    "\n",
    "# ReAct Agent Exec\n",
    "react_agent_executor = create_react_agent(llm, tools, checkpointer=memory)\n",
    "\n",
    "# OpenAI functions agent\n",
    "instructions = \"You are an assistant.\"\n",
    "base_prompt = hub.pull(\"langchain-ai/openai-functions-template\")\n",
    "prompt = base_prompt.partial(instructions=instructions)\n",
    "llm = ChatOpenAI(model=\"gpt-4o\", temperature=0, openai_api_key=openai_api_key)\n",
    "openai_agent = create_openai_functions_agent(llm, tools, prompt)\n",
    "\n",
    "agent_executor = AgentExecutor(\n",
    "    agent=openai_agent,\n",
    "    tools=tools,\n",
    "    verbose=True\n",
    ")"
   ]
  },
  {
   "cell_type": "code",
   "execution_count": 18,
   "metadata": {},
   "outputs": [
    {
     "name": "stderr",
     "output_type": "stream",
     "text": [
      "Error in StdOutCallbackHandler.on_chain_start callback: AttributeError(\"'NoneType' object has no attribute 'get'\")\n"
     ]
    },
    {
     "name": "stdout",
     "output_type": "stream",
     "text": [
      "\u001b[32;1m\u001b[1;3mCould you please provide the subject and the message you would like to include in the email?\u001b[0m\n",
      "\n",
      "\u001b[1m> Finished chain.\u001b[0m\n"
     ]
    }
   ],
   "source": [
    "out = agent_executor.invoke(    {\n",
    "        \"input\": \"draft an email to asmaahadir11@gmail.com\",\n",
    "        # \"chat_history\": [\n",
    "        #     HumanMessage(content=\"hi! my name is bob\"),\n",
    "        #     AIMessage(content=\"Hello Bob! How can I assist you today?\"),\n",
    "        # ],\n",
    "    }\n",
    "    )"
   ]
  },
  {
   "cell_type": "code",
   "execution_count": 19,
   "metadata": {},
   "outputs": [
    {
     "data": {
      "text/plain": [
       "{'input': 'draft an email to asmaahadir11@gmail.com',\n",
       " 'output': 'Could you please provide the subject and the message you would like to include in the email?'}"
      ]
     },
     "execution_count": 19,
     "metadata": {},
     "output_type": "execute_result"
    }
   ],
   "source": [
    "out"
   ]
  },
  {
   "cell_type": "markdown",
   "metadata": {},
   "source": [
    "Agent now has acce"
   ]
  }
 ],
 "metadata": {
  "kernelspec": {
   "display_name": "jfa-env",
   "language": "python",
   "name": "python3"
  },
  "language_info": {
   "codemirror_mode": {
    "name": "ipython",
    "version": 3
   },
   "file_extension": ".py",
   "mimetype": "text/x-python",
   "name": "python",
   "nbconvert_exporter": "python",
   "pygments_lexer": "ipython3",
   "version": "3.10.12"
  }
 },
 "nbformat": 4,
 "nbformat_minor": 2
}
