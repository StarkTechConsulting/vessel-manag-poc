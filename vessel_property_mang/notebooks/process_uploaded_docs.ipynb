{
 "cells": [
  {
   "cell_type": "markdown",
   "metadata": {},
   "source": [
    "Goal:\n",
    "Goal is to accurately extract the spatial units a document concerns \n",
    "\n",
    "- Spatial unit is a property \n",
    "\n",
    "Approach:\n",
    "\n",
    "- Use NER\n",
    "- Use LLM based approach"
   ]
  },
  {
   "cell_type": "code",
   "execution_count": 1,
   "metadata": {},
   "outputs": [],
   "source": [
    "from langchain_community.document_loaders import Docx2txtLoader\n",
    "\n",
    "path = \"/home/asmaa/work/BV_Lab/POCs/vessel_property_mang/assets/222 Madison Street - Key Authorization 7.15.2024.docx\"\n",
    "\n",
    "loader = Docx2txtLoader(path)\n",
    "\n",
    "docs = loader.load()\n",
    "\n",
    "\n",
    "texts = [doc.page_content for doc in docs]\n",
    "text = \" \".join(texts)"
   ]
  },
  {
   "cell_type": "code",
   "execution_count": 2,
   "metadata": {},
   "outputs": [
    {
     "data": {
      "text/plain": [
       "'July 15, 2024\\n\\n\\n\\nTo whom it may concern,\\n\\n\\n\\nWe are Vessel Property Management; the new property management for 222 Madison St, Hoboken.\\n\\n\\n\\nWe hereby authorize Lorenzo Bevilaqua to make a copy of the building key for 222 Madison St, Hoboken.\\n\\n\\n\\nThe key will be used for our staff and vendors who are hired to perform their duties and need building access in order to do so.  The key will live in our company lockbox.\\n\\n\\n\\n\\n\\nThank you,\\n\\n\\n\\nVessel Property Management\\n\\ninfo@vesselholdings.com\\n\\n(973) 348-5655\\n\\n\\n\\n\\n\\ninfo@vesselpm.com\\t\\t|\\twww.vesselpm.com\\t\\t|\\t\\t973.348.5655\\n\\ninfo@vesselpm.com\\t\\t|\\twww.vesselpm.com\\t\\t|\\t\\t973.348.5655'"
      ]
     },
     "execution_count": 2,
     "metadata": {},
     "output_type": "execute_result"
    }
   ],
   "source": [
    "text"
   ]
  },
  {
   "cell_type": "code",
   "execution_count": 4,
   "metadata": {},
   "outputs": [
    {
     "name": "stderr",
     "output_type": "stream",
     "text": [
      "/home/asmaa/work/BV_Lab/poc-env/lib/python3.10/site-packages/thinc/shims/pytorch.py:253: FutureWarning: You are using `torch.load` with `weights_only=False` (the current default value), which uses the default pickle module implicitly. It is possible to construct malicious pickle data which will execute arbitrary code during unpickling (See https://github.com/pytorch/pytorch/blob/main/SECURITY.md#untrusted-models for more details). In a future release, the default value for `weights_only` will be flipped to `True`. This limits the functions that could be executed during unpickling. Arbitrary objects will no longer be allowed to be loaded via this mode unless they are explicitly allowlisted by the user via `torch.serialization.add_safe_globals`. We recommend you start setting `weights_only=True` for any use case where you don't have full control of the loaded file. Please open an issue on GitHub for any issues related to this experimental feature.\n",
      "  model.load_state_dict(torch.load(filelike, map_location=device))\n",
      "/home/asmaa/work/BV_Lab/poc-env/lib/python3.10/site-packages/thinc/shims/pytorch.py:114: FutureWarning: `torch.cuda.amp.autocast(args...)` is deprecated. Please use `torch.amp.autocast('cuda', args...)` instead.\n",
      "  with torch.cuda.amp.autocast(self._mixed_precision):\n"
     ]
    },
    {
     "data": {
      "text/plain": [
       "['222 Madison St']"
      ]
     },
     "execution_count": 4,
     "metadata": {},
     "output_type": "execute_result"
    },
    {
     "ename": "",
     "evalue": "",
     "output_type": "error",
     "traceback": [
      "\u001b[1;31mThe Kernel crashed while executing code in the current cell or a previous cell. \n",
      "\u001b[1;31mPlease review the code in the cell(s) to identify a possible cause of the failure. \n",
      "\u001b[1;31mClick <a href='https://aka.ms/vscodeJupyterKernelCrash'>here</a> for more info. \n",
      "\u001b[1;31mView Jupyter <a href='command:jupyter.viewOutput'>log</a> for further details."
     ]
    }
   ],
   "source": [
    "import spacy\n",
    "\n",
    "# Load pre-trained model\n",
    "roberta_nlp = spacy.load(\"en_core_web_trf\")\n",
    "\n",
    "def extract_building_names(text):\n",
    "    doc = roberta_nlp(text)\n",
    "    buildings = [ent.text for ent in doc.ents if ent.label_ in ['FAC',\"building\",\"property\"]]\n",
    "    return list(set(buildings))\n",
    "\n",
    "buildings = extract_building_names(text)\n",
    "list(set(buildings))\n"
   ]
  },
  {
   "cell_type": "code",
   "execution_count": null,
   "metadata": {},
   "outputs": [],
   "source": []
  }
 ],
 "metadata": {
  "kernelspec": {
   "display_name": "poc-env",
   "language": "python",
   "name": "python3"
  },
  "language_info": {
   "codemirror_mode": {
    "name": "ipython",
    "version": 3
   },
   "file_extension": ".py",
   "mimetype": "text/x-python",
   "name": "python",
   "nbconvert_exporter": "python",
   "pygments_lexer": "ipython3",
   "version": "3.10.12"
  }
 },
 "nbformat": 4,
 "nbformat_minor": 2
}
